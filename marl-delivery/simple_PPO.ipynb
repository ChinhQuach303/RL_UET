{
  "cells": [
    {
      "cell_type": "markdown",
      "metadata": {
        "id": "AM3r0wPe5N0K"
      },
      "source": [
        "Solving Package delivery using single-agent PPO with a naive feature representation learning: concatenante all the feature in to a single state vector, and multiple robot actions as a multi discrete distribution."
      ]
    },
    {
      "cell_type": "code",
      "execution_count": 13,
      "metadata": {
        "id": "9Ro5mHQ3GnN8"
      },
      "outputs": [],
      "source": [
        "%%capture\n",
        "!git clone https://github.com/cuongtv312/marl-delivery.git\n",
        "%cd marl-delivery\n",
        "!pip install -r requirements.txt"
      ]
    },
    {
      "cell_type": "code",
      "execution_count": 2,
      "metadata": {
        "id": "uWjMBXQoG4JL"
      },
      "outputs": [],
      "source": [
        "%%capture\n",
        "!pip install stable-baselines3"
      ]
    },
    {
      "cell_type": "code",
      "execution_count": 3,
      "metadata": {
        "id": "309nvG-V8Otr"
      },
      "outputs": [],
      "source": [
        "from env import Environment\n",
        "import gymnasium as gym\n",
        "from gymnasium import spaces\n",
        "import numpy as np"
      ]
    },
    {
      "cell_type": "code",
      "execution_count": 6,
      "metadata": {
        "id": "rq1hlk4b8Q37"
      },
      "outputs": [],
      "source": [
        "# TODO: Modify this one to add more information to the Agents\n",
        "def convert_state(state):\n",
        "    ret_state = {}\n",
        "    # Add time step information\n",
        "    ret_state[\"time_step\"] = np.array([state[\"time_step\"]]).astype(np.float32).flatten()\n",
        "\n",
        "    # Add map information\n",
        "    ret_state[\"map\"] = np.array(state[\"map\"]).astype(np.float32).flatten()\n",
        "\n",
        "    # Add robot information\n",
        "    ret_state[\"robots\"] = np.array(state[\"robots\"]).astype(np.float32).flatten()\n",
        "\n",
        "    # Add package information (limit to 100 packages)\n",
        "    ret_state[\"packages\"] = np.array(state[\"packages\"]).astype(np.float32).flatten()[:100]\n",
        "    if len(ret_state[\"packages\"]) < 100:\n",
        "        ret_state[\"packages\"] = np.concatenate((ret_state[\"packages\"], np.zeros(100 - len(ret_state[\"packages\"]))))\n",
        "\n",
        "    # Combine all information into a single state vector\n",
        "    return np.concatenate(list(ret_state.values()))"
      ]
    },
    {
      "cell_type": "code",
      "execution_count": 7,
      "metadata": {
        "id": "7SHRHHeF8SjO"
      },
      "outputs": [],
      "source": [
        "# TODO: Modify this one to make the agent learn faster\n",
        "\n",
        "def reward_shaping(r, env, state, action):\n",
        "    # Base reward from the environment\n",
        "    shaped_reward = r\n",
        "\n",
        "    # Add a penalty for idle actions (e.g., staying in the same position)\n",
        "    if action[0] == 'S':\n",
        "        shaped_reward -= 0.1\n",
        "\n",
        "    # Add a bonus for delivering packages on time\n",
        "    for package in state['packages']:\n",
        "        if package[5] <= state['time_step'] <= package[6]:  # Within delivery window\n",
        "            shaped_reward += 1.0\n",
        "\n",
        "    # Add a penalty for moving further away from the target\n",
        "    for robot, act in zip(state['robots'], action):\n",
        "        if act[0] in ['L', 'R', 'U', 'D']:\n",
        "            target = next((p for p in state['packages'] if p[0] == robot[2]), None)\n",
        "            if target:\n",
        "                current_dist = abs(robot[0] - target[3]) + abs(robot[1] - target[4])\n",
        "                new_pos = env.compute_new_position((robot[0], robot[1]), act[0])\n",
        "                new_dist = abs(new_pos[0] - target[3]) + abs(new_pos[1] - target[4])\n",
        "                if new_dist > current_dist:\n",
        "                    shaped_reward -= 0.5  # Penalize moving away from the target\n",
        "\n",
        "    return shaped_reward"
      ]
    },
    {
      "cell_type": "code",
      "execution_count": 8,
      "metadata": {
        "id": "kfrZJa4jG6yE"
      },
      "outputs": [],
      "source": [
        "# Avoid to modify the Env class,\n",
        "# If it is neccessary, you should describe those changes clearly in report and code\n",
        "class Env(gym.Env):\n",
        "    def __init__(self, *args, **kwargs):\n",
        "        super(Env, self).__init__()\n",
        "        self.env = Environment(*args, **kwargs)\n",
        "\n",
        "        self.action_space = spaces.multi_discrete.MultiDiscrete([5, 3]*self.env.n_robots)\n",
        "\n",
        "\n",
        "        self.prev_state = self.env.reset()\n",
        "        first_state=convert_state(self.prev_state)\n",
        "        # Define observation space as a dictionary\n",
        "\n",
        "        self.observation_space = spaces.Box(low=0, high=100, shape=first_state.shape, dtype=np.float32)\n",
        "\n",
        "\n",
        "        from sklearn.preprocessing import LabelEncoder\n",
        "        self.le1, self.le2= LabelEncoder(), LabelEncoder()\n",
        "        self.le1.fit(['S', 'L', 'R', 'U', 'D'])\n",
        "        self.le2.fit(['0','1', '2'])\n",
        "\n",
        "    def reset(self, *args, **kwargs):\n",
        "        self.prev_state = self.env.reset()\n",
        "        return convert_state(self.prev_state), {}\n",
        "\n",
        "    def render(self, *args, **kwargs):\n",
        "        return self.env.render()\n",
        "\n",
        "    def step(self, action):\n",
        "        ret = []\n",
        "        ret.append(self.le1.inverse_transform(action.reshape(-1, 2).T[0]))\n",
        "        ret.append(self.le2.inverse_transform(action.reshape(-1, 2).T[1]))\n",
        "        action = list(zip(*ret))\n",
        "\n",
        "        # You should not modify the infos object\n",
        "        s, r, done, infos = self.env.step(action)\n",
        "        new_r = reward_shaping(r, self.env, self.prev_state, action)\n",
        "        self.prev_state = s\n",
        "        return convert_state(s), new_r, \\\n",
        "            done, False, infos"
      ]
    },
    {
      "cell_type": "code",
      "execution_count": 26,
      "metadata": {
        "colab": {
          "base_uri": "https://localhost:8080/"
        },
        "id": "X2IQRlqoKl78",
        "outputId": "fc847fe0-d855-43d0-cfe4-159cb2fc43e6"
      },
      "outputs": [
        {
          "name": "stdout",
          "output_type": "stream",
          "text": [
            "Using cpu device\n",
            "---------------------------------\n",
            "| rollout/           |          |\n",
            "|    ep_len_mean     | 100      |\n",
            "|    ep_rew_mean     | -2.68    |\n",
            "| time/              |          |\n",
            "|    fps             | 1017     |\n",
            "|    iterations      | 1        |\n",
            "|    time_elapsed    | 20       |\n",
            "|    total_timesteps | 20480    |\n",
            "---------------------------------\n"
          ]
        }
      ],
      "source": [
        "import gymnasium as gym\n",
        "\n",
        "from stable_baselines3 import PPO\n",
        "from stable_baselines3.common.env_util import make_vec_env\n",
        "from stable_baselines3.common.monitor import Monitor\n",
        "from stable_baselines3.common.callbacks import EvalCallback\n",
        "\n",
        "\n",
        "# Parallel environments\n",
        "vec_env = make_vec_env(lambda: Env('map2.txt', 100, 5, 20, -0.01, 10., 1., 10), n_envs=10)\n",
        "eval_env = Monitor(Env('map2.txt', 100, 5, 20, -0.01, 10., 1., 10), \"ppo_delivery\")\n",
        "\n",
        "eval_callback = EvalCallback(eval_env, best_model_save_path=\"./best_model/\",\n",
        "                             log_path=\"./logs/\", eval_freq=5000,\n",
        "                             deterministic=True, render=False)\n",
        "\n",
        "model = PPO(\"MlpPolicy\", vec_env, verbose=1)\n",
        "model.learn(total_timesteps=10000, callback=eval_callback)\n",
        "model.save(\"ppo_delivery\")\n"
      ]
    },
    {
      "cell_type": "code",
      "execution_count": 10,
      "metadata": {
        "id": "ISQZWTjkyZ6u"
      },
      "outputs": [],
      "source": []
    },
    {
      "cell_type": "code",
      "execution_count": 27,
      "metadata": {
        "colab": {
          "base_uri": "https://localhost:8080/"
        },
        "id": "OuDtccMk3bXJ",
        "outputId": "3c32669b-9358-49ad-c715-c2ae4e84463c"
      },
      "outputs": [
        {
          "name": "stdout",
          "output_type": "stream",
          "text": [
            "{'total_reward': -3.339999999999998, 'total_time_steps': 100, 'episode': {'r': -3.34, 'l': 100, 't': 101.408837}}\n"
          ]
        }
      ],
      "source": [
        "obs,_ = eval_env.reset()\n",
        "while True:\n",
        "    action, _states = model.predict(obs)\n",
        "    obs, rewards, dones, _, info = eval_env.step(action)\n",
        "    #print('='*10)\n",
        "    #eval_env.unwrapped.env.render()\n",
        "    if dones:\n",
        "        break\n",
        "\n",
        "print(info)"
      ]
    },
    {
      "cell_type": "code",
      "execution_count": 7,
      "metadata": {
        "colab": {
          "base_uri": "https://localhost:8080/"
        },
        "id": "WVpXVAz8Kn9C",
        "outputId": "da85df6f-1219-444b-eeac-0bcf9bd6bf83"
      },
      "outputs": [
        {
          "name": "stdout",
          "output_type": "stream",
          "text": [
            "stable_baselines3==2.6.0\n"
          ]
        }
      ],
      "source": [
        "!pip freeze | grep stable_baselines3"
      ]
    },
    {
      "cell_type": "code",
      "execution_count": 7,
      "metadata": {
        "id": "B1WfsTHEPzco"
      },
      "outputs": [],
      "source": []
    },
    {
      "cell_type": "markdown",
      "metadata": {},
      "source": [
        "# Implementing DQN for Package Delivery\n",
        "This section implements the DQN algorithm for solving the package delivery problem, similar to the PPO implementation."
      ]
    },
    {
      "cell_type": "code",
      "execution_count": 16,
      "metadata": {},
      "outputs": [
        {
          "ename": "ValueError",
          "evalue": "y contains previously unseen labels: ['0' '1' '2' '4']",
          "output_type": "error",
          "traceback": [
            "\u001b[31m---------------------------------------------------------------------------\u001b[39m",
            "\u001b[31mValueError\u001b[39m                                Traceback (most recent call last)",
            "\u001b[36mCell\u001b[39m\u001b[36m \u001b[39m\u001b[32mIn[16]\u001b[39m\u001b[32m, line 36\u001b[39m\n\u001b[32m     33\u001b[39m actions[:, \u001b[32m1\u001b[39m] = env.le2.transform(actions[:, \u001b[32m1\u001b[39m])  \u001b[38;5;66;03m# Encode second part of action\u001b[39;00m\n\u001b[32m     35\u001b[39m \u001b[38;5;66;03m# Take actions in environment\u001b[39;00m\n\u001b[32m---> \u001b[39m\u001b[32m36\u001b[39m next_state, reward, done, _, _ = \u001b[43menv\u001b[49m\u001b[43m.\u001b[49m\u001b[43mstep\u001b[49m\u001b[43m(\u001b[49m\u001b[43mactions\u001b[49m\u001b[43m)\u001b[49m\n\u001b[32m     38\u001b[39m \u001b[38;5;66;03m# Store experience and train\u001b[39;00m\n\u001b[32m     39\u001b[39m agent.remember(state, actions, reward, next_state, done)\n",
            "\u001b[36mCell\u001b[39m\u001b[36m \u001b[39m\u001b[32mIn[8]\u001b[39m\u001b[32m, line 32\u001b[39m, in \u001b[36mEnv.step\u001b[39m\u001b[34m(self, action)\u001b[39m\n\u001b[32m     30\u001b[39m \u001b[38;5;28;01mdef\u001b[39;00m\u001b[38;5;250m \u001b[39m\u001b[34mstep\u001b[39m(\u001b[38;5;28mself\u001b[39m, action):\n\u001b[32m     31\u001b[39m     ret = []\n\u001b[32m---> \u001b[39m\u001b[32m32\u001b[39m     ret.append(\u001b[38;5;28;43mself\u001b[39;49m\u001b[43m.\u001b[49m\u001b[43mle1\u001b[49m\u001b[43m.\u001b[49m\u001b[43minverse_transform\u001b[49m\u001b[43m(\u001b[49m\u001b[43maction\u001b[49m\u001b[43m.\u001b[49m\u001b[43mreshape\u001b[49m\u001b[43m(\u001b[49m\u001b[43m-\u001b[49m\u001b[32;43m1\u001b[39;49m\u001b[43m,\u001b[49m\u001b[43m \u001b[49m\u001b[32;43m2\u001b[39;49m\u001b[43m)\u001b[49m\u001b[43m.\u001b[49m\u001b[43mT\u001b[49m\u001b[43m[\u001b[49m\u001b[32;43m0\u001b[39;49m\u001b[43m]\u001b[49m\u001b[43m)\u001b[49m)\n\u001b[32m     33\u001b[39m     ret.append(\u001b[38;5;28mself\u001b[39m.le2.inverse_transform(action.reshape(-\u001b[32m1\u001b[39m, \u001b[32m2\u001b[39m).T[\u001b[32m1\u001b[39m]))\n\u001b[32m     34\u001b[39m     action = \u001b[38;5;28mlist\u001b[39m(\u001b[38;5;28mzip\u001b[39m(*ret))\n",
            "\u001b[36mFile \u001b[39m\u001b[32mc:\\Users\\ADMIN\\AppData\\Local\\Programs\\Python\\Python312\\Lib\\site-packages\\sklearn\\preprocessing\\_label.py:162\u001b[39m, in \u001b[36mLabelEncoder.inverse_transform\u001b[39m\u001b[34m(self, y)\u001b[39m\n\u001b[32m    156\u001b[39m diff = _setdiff1d(\n\u001b[32m    157\u001b[39m     ar1=y,\n\u001b[32m    158\u001b[39m     ar2=xp.arange(\u001b[38;5;28mself\u001b[39m.classes_.shape[\u001b[32m0\u001b[39m], device=device(y)),\n\u001b[32m    159\u001b[39m     xp=xp,\n\u001b[32m    160\u001b[39m )\n\u001b[32m    161\u001b[39m \u001b[38;5;28;01mif\u001b[39;00m diff.shape[\u001b[32m0\u001b[39m]:\n\u001b[32m--> \u001b[39m\u001b[32m162\u001b[39m     \u001b[38;5;28;01mraise\u001b[39;00m \u001b[38;5;167;01mValueError\u001b[39;00m(\u001b[33m\"\u001b[39m\u001b[33my contains previously unseen labels: \u001b[39m\u001b[38;5;132;01m%s\u001b[39;00m\u001b[33m\"\u001b[39m % \u001b[38;5;28mstr\u001b[39m(diff))\n\u001b[32m    163\u001b[39m y = xp.asarray(y)\n\u001b[32m    164\u001b[39m \u001b[38;5;28;01mreturn\u001b[39;00m xp.take(\u001b[38;5;28mself\u001b[39m.classes_, y, axis=\u001b[32m0\u001b[39m)\n",
            "\u001b[31mValueError\u001b[39m: y contains previously unseen labels: ['0' '1' '2' '4']"
          ]
        }
      ],
      "source": [
        "from dqn_agent import DQNAgent\n",
        "import numpy as np\n",
        "\n",
        "# Initialize environment\n",
        "env = Env('map2.txt', 100, 5, 20, -0.01, 10., 1., 10)\n",
        "\n",
        "# Initialize DQN agent\n",
        "state_size = env.observation_space.shape[0]\n",
        "action_size = int(np.prod(env.action_space.nvec))  # Flatten MultiDiscrete action space\n",
        "agent = DQNAgent(state_size, action_size)\n",
        "\n",
        "# Training parameters\n",
        "n_episodes = 1000\n",
        "batch_size = 32\n",
        "\n",
        "# Training loop\n",
        "for episode in range(n_episodes):\n",
        "    state, _ = env.reset()\n",
        "    done = False\n",
        "    total_reward = 0\n",
        "\n",
        "    while not done:\n",
        "        actions = []\n",
        "        robots = env.env.get_state()['robots']  # Access robots from the environment state\n",
        "        for robot_idx in range(len(robots)):\n",
        "            # Select action for each robot\n",
        "            action = agent.get_action(state, robot_idx, training=True)\n",
        "            actions.append(action)\n",
        "\n",
        "        # Convert actions to NumPy array and encode using LabelEncoder\n",
        "        actions = np.array(actions)\n",
        "        actions[:, 0] = env.le1.transform(actions[:, 0])  # Encode first part of action\n",
        "        actions[:, 1] = env.le2.transform(actions[:, 1])  # Encode second part of action\n",
        "\n",
        "        # Take actions in environment\n",
        "        next_state, reward, done, _, _ = env.step(actions)\n",
        "\n",
        "        # Store experience and train\n",
        "        agent.remember(state, actions, reward, next_state, done)\n",
        "        agent.replay(batch_size)\n",
        "\n",
        "        # Update state and reward\n",
        "        state = next_state\n",
        "        total_reward += reward\n",
        "\n",
        "    # Update target network periodically\n",
        "    if (episode + 1) % 10 == 0:\n",
        "        agent.update_target_model()\n",
        "\n",
        "    print(f\"Episode {episode + 1}/{n_episodes}, Total Reward: {total_reward}\")\n",
        "\n",
        "# Save the trained model\n",
        "agent.save('dqn_model.pth')"
      ]
    }
  ],
  "metadata": {
    "colab": {
      "provenance": []
    },
    "kernelspec": {
      "display_name": "Python 3",
      "name": "python3"
    },
    "language_info": {
      "codemirror_mode": {
        "name": "ipython",
        "version": 3
      },
      "file_extension": ".py",
      "mimetype": "text/x-python",
      "name": "python",
      "nbconvert_exporter": "python",
      "pygments_lexer": "ipython3",
      "version": "3.12.8"
    }
  },
  "nbformat": 4,
  "nbformat_minor": 0
}
